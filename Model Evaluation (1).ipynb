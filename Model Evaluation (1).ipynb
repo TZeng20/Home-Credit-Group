{
 "cells": [
  {
   "cell_type": "code",
   "execution_count": 1,
   "metadata": {},
   "outputs": [
    {
     "name": "stdout",
     "output_type": "stream",
     "text": [
      "Collecting lightgbm\n",
      "  Using cached https://files.pythonhosted.org/packages/78/7e/bc87e7951cfaa998cffaf39e6c721f5bd04efb2e139486206356edb289a5/lightgbm-2.2.1-py2.py3-none-manylinux1_x86_64.whl\n",
      "Requirement already satisfied: scipy in /usr/local/envs/py3env/lib/python3.5/site-packages (from lightgbm) (1.0.0)\n",
      "Requirement already satisfied: numpy in /usr/local/envs/py3env/lib/python3.5/site-packages (from lightgbm) (1.14.0)\n",
      "Requirement already satisfied: scikit-learn in /usr/local/envs/py3env/lib/python3.5/site-packages (from lightgbm) (0.19.1)\n",
      "Installing collected packages: lightgbm\n",
      "Successfully installed lightgbm-2.2.1\n",
      "Collecting shap\n",
      "Requirement already satisfied: pandas in /usr/local/envs/py3env/lib/python3.5/site-packages (from shap) (0.22.0)\n",
      "Requirement already satisfied: scikit-learn in /usr/local/envs/py3env/lib/python3.5/site-packages (from shap) (0.19.1)\n",
      "Requirement already satisfied: numpy in /usr/local/envs/py3env/lib/python3.5/site-packages (from shap) (1.14.0)\n",
      "Requirement already satisfied: ipython in /usr/local/envs/py3env/lib/python3.5/site-packages (from shap) (6.5.0)\n",
      "Collecting tqdm (from shap)\n",
      "  Using cached https://files.pythonhosted.org/packages/91/55/8cb23a97301b177e9c8e3226dba45bb454411de2cbd25746763267f226c2/tqdm-4.28.1-py2.py3-none-any.whl\n",
      "Requirement already satisfied: matplotlib in /usr/local/envs/py3env/lib/python3.5/site-packages (from shap) (2.1.2)\n",
      "Requirement already satisfied: scipy in /usr/local/envs/py3env/lib/python3.5/site-packages (from shap) (1.0.0)\n",
      "Requirement already satisfied: python-dateutil>=2 in /usr/local/envs/py3env/lib/python3.5/site-packages (from pandas->shap) (2.5.0)\n",
      "Requirement already satisfied: pytz>=2011k in /usr/local/envs/py3env/lib/python3.5/site-packages (from pandas->shap) (2016.7)\n",
      "Requirement already satisfied: decorator in /usr/local/envs/py3env/lib/python3.5/site-packages (from ipython->shap) (4.3.0)\n",
      "Requirement already satisfied: simplegeneric>0.8 in /usr/local/envs/py3env/lib/python3.5/site-packages (from ipython->shap) (0.8.1)\n",
      "Requirement already satisfied: jedi>=0.10 in /usr/local/envs/py3env/lib/python3.5/site-packages (from ipython->shap) (0.12.1)\n",
      "Requirement already satisfied: setuptools>=18.5 in /usr/local/envs/py3env/lib/python3.5/site-packages (from ipython->shap) (40.0.0)\n",
      "Requirement already satisfied: pexpect; sys_platform != \"win32\" in /usr/local/envs/py3env/lib/python3.5/site-packages (from ipython->shap) (4.6.0)\n",
      "Requirement already satisfied: prompt-toolkit<2.0.0,>=1.0.15 in /usr/local/envs/py3env/lib/python3.5/site-packages (from ipython->shap) (1.0.15)\n",
      "Requirement already satisfied: pygments in /usr/local/envs/py3env/lib/python3.5/site-packages (from ipython->shap) (2.1.3)\n",
      "Requirement already satisfied: traitlets>=4.2 in /usr/local/envs/py3env/lib/python3.5/site-packages (from ipython->shap) (4.3.2)\n",
      "Requirement already satisfied: pickleshare in /usr/local/envs/py3env/lib/python3.5/site-packages (from ipython->shap) (0.7.4)\n",
      "Requirement already satisfied: backcall in /usr/local/envs/py3env/lib/python3.5/site-packages (from ipython->shap) (0.1.0)\n",
      "Requirement already satisfied: six>=1.10 in /usr/local/envs/py3env/lib/python3.5/site-packages (from matplotlib->shap) (1.10.0)\n",
      "Requirement already satisfied: cycler>=0.10 in /usr/local/envs/py3env/lib/python3.5/site-packages (from matplotlib->shap) (0.10.0)\n",
      "Requirement already satisfied: pyparsing!=2.0.4,!=2.1.2,!=2.1.6,>=2.0.1 in /usr/local/envs/py3env/lib/python3.5/site-packages (from matplotlib->shap) (2.2.0)\n",
      "Requirement already satisfied: parso>=0.3.0 in /usr/local/envs/py3env/lib/python3.5/site-packages (from jedi>=0.10->ipython->shap) (0.3.1)\n",
      "Requirement already satisfied: ptyprocess>=0.5 in /usr/local/envs/py3env/lib/python3.5/site-packages (from pexpect; sys_platform != \"win32\"->ipython->shap) (0.6.0)\n",
      "Requirement already satisfied: wcwidth in /usr/local/envs/py3env/lib/python3.5/site-packages (from prompt-toolkit<2.0.0,>=1.0.15->ipython->shap) (0.1.7)\n",
      "Requirement already satisfied: ipython_genutils in /usr/local/envs/py3env/lib/python3.5/site-packages (from traitlets>=4.2->ipython->shap) (0.2.0)\n",
      "Installing collected packages: tqdm, shap\n",
      "Successfully installed shap-0.24.0 tqdm-4.28.1\n"
     ]
    }
   ],
   "source": [
    "!pip install lightgbm\n",
    "!pip install shap"
   ]
  },
  {
   "cell_type": "code",
   "execution_count": 2,
   "metadata": {},
   "outputs": [],
   "source": [
    "# Imports\n",
    "import numpy as np\n",
    "import pandas as pd\n",
    "import ast\n",
    "import matplotlib.pyplot as plt\n",
    "import warnings\n",
    "warnings.filterwarnings('ignore') \n",
    "\n",
    "from sklearn.linear_model import SGDClassifier\n",
    "from sklearn.ensemble import RandomForestClassifier\n",
    "import lightgbm as lgb\n",
    "from lightgbm import LGBMClassifier\n"
   ]
  },
  {
   "cell_type": "code",
   "execution_count": 3,
   "metadata": {},
   "outputs": [],
   "source": [
    "files_to_open = ['logistic_random_results', 'logistic_hyperopt_results', 'Random_Forest_random_results', \n",
    "                 'rf_hyperopt_results', 'lgb_random_results','lgb_hyperopt_results']"
   ]
  },
  {
   "cell_type": "code",
   "execution_count": 4,
   "metadata": {},
   "outputs": [],
   "source": [
    "def df_open(f):\n",
    "  \n",
    "  data_frame = pd.read_csv(f)\n",
    "  if 'hyperopt' in f and 'auc' not in data_frame.columns.values:\n",
    "      data_frame['auc'] = 1- data_frame['loss']\n",
    "      data_frame = data_frame.sort_values('auc', ascending = False)\n",
    "  elif 'random' in f:\n",
    "      data_frame = data_frame.sort_values('mean_test_score', ascending = False)\n",
    "      \n",
    "  return data_frame\n",
    "  "
   ]
  },
  {
   "cell_type": "code",
   "execution_count": 5,
   "metadata": {},
   "outputs": [],
   "source": [
    "#Dictionary of model results\n",
    "\n",
    "def foo(files_to_load = []):\n",
    "  results_dict = {}\n",
    "  best_models_dict = {}\n",
    "  for f in files_to_load:\n",
    "    m = f.replace('results', 'clf')\n",
    "    results_dict[f] = df_open(f)\n",
    "    best_params = ast.literal_eval(results_dict[f]['params'][0])\n",
    "    if 'logistic' in f:\n",
    "      #Fitting with params which give highest score\n",
    "      best_models_dict[m] = SGDClassifier(**best_params)\n",
    "    elif 'Random_Forest' in f or 'rf_' in f:\n",
    "      best_models_dict[m] = RandomForestClassifier(random_state=0, **best_params)\n",
    "    elif 'lgb' in f:\n",
    "      best_models_dict[m] = lgb.LGBMClassifier(**best_params)\n",
    "      \n",
    "  return results_dict, best_models_dict"
   ]
  },
  {
   "cell_type": "code",
   "execution_count": 6,
   "metadata": {},
   "outputs": [],
   "source": [
    "results_dict, best_models_dict = foo(files_to_load=files_to_open)"
   ]
  },
  {
   "cell_type": "markdown",
   "metadata": {},
   "source": [
    "## Table building"
   ]
  },
  {
   "cell_type": "code",
   "execution_count": 7,
   "metadata": {},
   "outputs": [],
   "source": [
    "resampled_df = pd.read_csv('resampled_df_40')"
   ]
  },
  {
   "cell_type": "code",
   "execution_count": 8,
   "metadata": {},
   "outputs": [],
   "source": [
    "resampled_df = resampled_df.drop(resampled_df.columns[0], axis = 1)\n",
    "response='TARGET'\n",
    "predictors= [col for col in resampled_df.columns if col != response]\n",
    "X_resampled = resampled_df[predictors]\n",
    "y_resampled = resampled_df[response]"
   ]
  },
  {
   "cell_type": "code",
   "execution_count": 11,
   "metadata": {},
   "outputs": [],
   "source": [
    "from sklearn.model_selection import cross_val_score, cross_validate\n",
    "from sklearn.metrics import confusion_matrix, make_scorer\n",
    "from sklearn.model_selection import StratifiedKFold"
   ]
  },
  {
   "cell_type": "code",
   "execution_count": 12,
   "metadata": {},
   "outputs": [],
   "source": [
    "def true_neg_rate(y_true, y_pred):\n",
    "  c_mat = confusion_matrix(y_true, y_pred)\n",
    "  return c_mat[0,0]/(c_mat[0,0] + c_mat[0,1])\n",
    "\n",
    "c_mat = {'TNR': make_scorer(true_neg_rate), 'TPR':'recall', 'Acc': 'accuracy', 'AUC':'roc_auc'}"
   ]
  },
  {
   "cell_type": "code",
   "execution_count": 12,
   "metadata": {},
   "outputs": [
    {
     "data": {
      "text/plain": [
       "dict_keys(['lgb_random_clf', 'rf_hyperopt_clf', 'lgb_hyperopt_clf', 'logistic_hyperopt_clf', 'logistic_random_clf', 'Random_Forest_random_clf'])"
      ]
     },
     "execution_count": 12,
     "metadata": {},
     "output_type": "execute_result"
    }
   ],
   "source": [
    "best_models_dict.keys()"
   ]
  },
  {
   "cell_type": "code",
   "execution_count": 13,
   "metadata": {},
   "outputs": [
    {
     "name": "stdout",
     "output_type": "stream",
     "text": [
      "env: JOBLIB_TEMP_FOLDER=/tmp\n"
     ]
    }
   ],
   "source": [
    "%env JOBLIB_TEMP_FOLDER=/tmp"
   ]
  },
  {
   "cell_type": "code",
   "execution_count": 19,
   "metadata": {},
   "outputs": [
    {
     "data": {
      "text/plain": [
       "{'fit_time': array([4.83265996, 4.68605494]),\n",
       " 'score_time': array([4.46168804, 4.2042129 ]),\n",
       " 'test_AUC': array([0.77488398, 0.75473587]),\n",
       " 'test_Acc': array([0.70648532, 0.69420117]),\n",
       " 'test_TNR': array([0.70629371, 0.71159486]),\n",
       " 'test_TPR': array([0.70675904, 0.66935224]),\n",
       " 'train_AUC': array([0.82524044, 0.83907832]),\n",
       " 'train_Acc': array([0.7461518 , 0.76015923]),\n",
       " 'train_TNR': array([0.74515001, 0.75738777]),\n",
       " 'train_TPR': array([0.74758298, 0.76411826])}"
      ]
     },
     "execution_count": 19,
     "metadata": {},
     "output_type": "execute_result"
    }
   ],
   "source": [
    "cross_validate(best_models_dict['lgb_hyperopt_clf'], X_resampled, y_resampled, cv = 2, scoring=c_mat)"
   ]
  },
  {
   "cell_type": "code",
   "execution_count": 15,
   "metadata": {},
   "outputs": [
    {
     "name": "stderr",
     "output_type": "stream",
     "text": [
      "/usr/local/envs/py3env/lib/python3.5/site-packages/sklearn/preprocessing/label.py:151: DeprecationWarning: The truth value of an empty array is ambiguous. Returning False, but in future this will result in an error. Use `array.size > 0` to check that an array is not empty.\n",
      "  if diff:\n",
      "/usr/local/envs/py3env/lib/python3.5/site-packages/sklearn/preprocessing/label.py:151: DeprecationWarning: The truth value of an empty array is ambiguous. Returning False, but in future this will result in an error. Use `array.size > 0` to check that an array is not empty.\n",
      "  if diff:\n",
      "/usr/local/envs/py3env/lib/python3.5/site-packages/sklearn/preprocessing/label.py:151: DeprecationWarning: The truth value of an empty array is ambiguous. Returning False, but in future this will result in an error. Use `array.size > 0` to check that an array is not empty.\n",
      "  if diff:\n",
      "/usr/local/envs/py3env/lib/python3.5/site-packages/sklearn/preprocessing/label.py:151: DeprecationWarning: The truth value of an empty array is ambiguous. Returning False, but in future this will result in an error. Use `array.size > 0` to check that an array is not empty.\n",
      "  if diff:\n",
      "/usr/local/envs/py3env/lib/python3.5/site-packages/sklearn/preprocessing/label.py:151: DeprecationWarning: The truth value of an empty array is ambiguous. Returning False, but in future this will result in an error. Use `array.size > 0` to check that an array is not empty.\n",
      "  if diff:\n",
      "/usr/local/envs/py3env/lib/python3.5/site-packages/sklearn/preprocessing/label.py:151: DeprecationWarning: The truth value of an empty array is ambiguous. Returning False, but in future this will result in an error. Use `array.size > 0` to check that an array is not empty.\n",
      "  if diff:\n",
      "/usr/local/envs/py3env/lib/python3.5/site-packages/sklearn/preprocessing/label.py:151: DeprecationWarning: The truth value of an empty array is ambiguous. Returning False, but in future this will result in an error. Use `array.size > 0` to check that an array is not empty.\n",
      "  if diff:\n",
      "/usr/local/envs/py3env/lib/python3.5/site-packages/sklearn/preprocessing/label.py:151: DeprecationWarning: The truth value of an empty array is ambiguous. Returning False, but in future this will result in an error. Use `array.size > 0` to check that an array is not empty.\n",
      "  if diff:\n",
      "/usr/local/envs/py3env/lib/python3.5/site-packages/sklearn/preprocessing/label.py:151: DeprecationWarning: The truth value of an empty array is ambiguous. Returning False, but in future this will result in an error. Use `array.size > 0` to check that an array is not empty.\n",
      "  if diff:\n",
      "[Parallel(n_jobs=1)]: Done   3 out of   3 | elapsed:  1.2min finished\n",
      "/usr/local/envs/py3env/lib/python3.5/site-packages/sklearn/preprocessing/label.py:151: DeprecationWarning: The truth value of an empty array is ambiguous. Returning False, but in future this will result in an error. Use `array.size > 0` to check that an array is not empty.\n",
      "  if diff:\n",
      "/usr/local/envs/py3env/lib/python3.5/site-packages/sklearn/preprocessing/label.py:151: DeprecationWarning: The truth value of an empty array is ambiguous. Returning False, but in future this will result in an error. Use `array.size > 0` to check that an array is not empty.\n",
      "  if diff:\n",
      "/usr/local/envs/py3env/lib/python3.5/site-packages/sklearn/preprocessing/label.py:151: DeprecationWarning: The truth value of an empty array is ambiguous. Returning False, but in future this will result in an error. Use `array.size > 0` to check that an array is not empty.\n",
      "  if diff:\n",
      "/usr/local/envs/py3env/lib/python3.5/site-packages/sklearn/preprocessing/label.py:151: DeprecationWarning: The truth value of an empty array is ambiguous. Returning False, but in future this will result in an error. Use `array.size > 0` to check that an array is not empty.\n",
      "  if diff:\n",
      "/usr/local/envs/py3env/lib/python3.5/site-packages/sklearn/preprocessing/label.py:151: DeprecationWarning: The truth value of an empty array is ambiguous. Returning False, but in future this will result in an error. Use `array.size > 0` to check that an array is not empty.\n",
      "  if diff:\n",
      "/usr/local/envs/py3env/lib/python3.5/site-packages/sklearn/preprocessing/label.py:151: DeprecationWarning: The truth value of an empty array is ambiguous. Returning False, but in future this will result in an error. Use `array.size > 0` to check that an array is not empty.\n",
      "  if diff:\n",
      "/usr/local/envs/py3env/lib/python3.5/site-packages/sklearn/preprocessing/label.py:151: DeprecationWarning: The truth value of an empty array is ambiguous. Returning False, but in future this will result in an error. Use `array.size > 0` to check that an array is not empty.\n",
      "  if diff:\n",
      "/usr/local/envs/py3env/lib/python3.5/site-packages/sklearn/preprocessing/label.py:151: DeprecationWarning: The truth value of an empty array is ambiguous. Returning False, but in future this will result in an error. Use `array.size > 0` to check that an array is not empty.\n",
      "  if diff:\n",
      "/usr/local/envs/py3env/lib/python3.5/site-packages/sklearn/preprocessing/label.py:151: DeprecationWarning: The truth value of an empty array is ambiguous. Returning False, but in future this will result in an error. Use `array.size > 0` to check that an array is not empty.\n",
      "  if diff:\n",
      "[Parallel(n_jobs=1)]: Done   3 out of   3 | elapsed:  1.1min finished\n",
      "[Parallel(n_jobs=1)]: Done   3 out of   3 | elapsed:   12.5s finished\n",
      "[Parallel(n_jobs=1)]: Done   3 out of   3 | elapsed:   12.7s finished\n",
      "[Parallel(n_jobs=1)]: Done   3 out of   3 | elapsed:   10.2s finished\n",
      "[Parallel(n_jobs=1)]: Done   3 out of   3 | elapsed:   10.8s finished\n"
     ]
    }
   ],
   "source": [
    "rows = best_models_dict\n",
    "columns = ['TNR', 'TPR', 'Accuracy', 'AUC', 'Loss']\n",
    "results = pd.DataFrame(0.0, columns=columns, index=rows.keys()) \n",
    "kf = StratifiedKFold(n_splits = 3)\n",
    "\n",
    "for m in rows.keys():\n",
    "    m_scores = cross_validate(rows[m], X_resampled, y_resampled, cv = kf, scoring=c_mat, return_train_score= False, verbose=True)\n",
    "    results.loc[m,'TNR'] = np.mean(m_scores['test_TNR'])\n",
    "    results.loc[m, 'TPR'] = np.mean(m_scores['test_TPR'])\n",
    "    results.loc[m, 'Accuracy'] = np.mean(m_scores['test_Acc'])\n",
    "    results.loc[m, 'AUC'] = np.mean(m_scores['test_AUC'])\n",
    "    results.loc[m, 'Loss'] = -(1-results.loc[m,'TNR'])*2417 -(1-results.loc[m, 'TPR'])*1124\n",
    "    \n",
    "results = results.round(3)\n",
    "results.to_csv('results_all_models_ex_NN.csv')"
   ]
  },
  {
   "cell_type": "code",
   "execution_count": 16,
   "metadata": {},
   "outputs": [
    {
     "data": {
      "text/html": [
       "<div>\n",
       "<style scoped>\n",
       "    .dataframe tbody tr th:only-of-type {\n",
       "        vertical-align: middle;\n",
       "    }\n",
       "\n",
       "    .dataframe tbody tr th {\n",
       "        vertical-align: top;\n",
       "    }\n",
       "\n",
       "    .dataframe thead th {\n",
       "        text-align: right;\n",
       "    }\n",
       "</style>\n",
       "<table border=\"1\" class=\"dataframe\">\n",
       "  <thead>\n",
       "    <tr style=\"text-align: right;\">\n",
       "      <th></th>\n",
       "      <th>TNR</th>\n",
       "      <th>TPR</th>\n",
       "      <th>Accuracy</th>\n",
       "      <th>AUC</th>\n",
       "      <th>Loss</th>\n",
       "    </tr>\n",
       "  </thead>\n",
       "  <tbody>\n",
       "    <tr>\n",
       "      <th>lgb_hyperopt_clf</th>\n",
       "      <td>0.709</td>\n",
       "      <td>0.694</td>\n",
       "      <td>0.703</td>\n",
       "      <td>0.767</td>\n",
       "      <td>-1046.996</td>\n",
       "    </tr>\n",
       "    <tr>\n",
       "      <th>lgb_random_clf</th>\n",
       "      <td>0.810</td>\n",
       "      <td>0.562</td>\n",
       "      <td>0.708</td>\n",
       "      <td>0.766</td>\n",
       "      <td>-949.994</td>\n",
       "    </tr>\n",
       "    <tr>\n",
       "      <th>rf_hyperopt_clf</th>\n",
       "      <td>0.947</td>\n",
       "      <td>0.141</td>\n",
       "      <td>0.615</td>\n",
       "      <td>0.690</td>\n",
       "      <td>-1093.273</td>\n",
       "    </tr>\n",
       "    <tr>\n",
       "      <th>logistic_random_clf</th>\n",
       "      <td>0.745</td>\n",
       "      <td>0.506</td>\n",
       "      <td>0.646</td>\n",
       "      <td>0.683</td>\n",
       "      <td>-1173.131</td>\n",
       "    </tr>\n",
       "    <tr>\n",
       "      <th>Random_Forest_random_clf</th>\n",
       "      <td>0.707</td>\n",
       "      <td>0.555</td>\n",
       "      <td>0.644</td>\n",
       "      <td>0.685</td>\n",
       "      <td>-1208.153</td>\n",
       "    </tr>\n",
       "    <tr>\n",
       "      <th>logistic_hyperopt_clf</th>\n",
       "      <td>0.752</td>\n",
       "      <td>0.506</td>\n",
       "      <td>0.651</td>\n",
       "      <td>0.685</td>\n",
       "      <td>-1154.393</td>\n",
       "    </tr>\n",
       "  </tbody>\n",
       "</table>\n",
       "</div>"
      ],
      "text/plain": [
       "                            TNR    TPR  Accuracy    AUC      Loss\n",
       "lgb_hyperopt_clf          0.709  0.694     0.703  0.767 -1046.996\n",
       "lgb_random_clf            0.810  0.562     0.708  0.766  -949.994\n",
       "rf_hyperopt_clf           0.947  0.141     0.615  0.690 -1093.273\n",
       "logistic_random_clf       0.745  0.506     0.646  0.683 -1173.131\n",
       "Random_Forest_random_clf  0.707  0.555     0.644  0.685 -1208.153\n",
       "logistic_hyperopt_clf     0.752  0.506     0.651  0.685 -1154.393"
      ]
     },
     "execution_count": 16,
     "metadata": {},
     "output_type": "execute_result"
    }
   ],
   "source": [
    "results"
   ]
  },
  {
   "cell_type": "code",
   "execution_count": 24,
   "metadata": {},
   "outputs": [],
   "source": [
    "NN_result_random = pd.read_csv('NN_results.csv', index_col=0)\n",
    "combined_results = results.append(NN_result_random)"
   ]
  },
  {
   "cell_type": "code",
   "execution_count": 25,
   "metadata": {},
   "outputs": [
    {
     "data": {
      "text/html": [
       "<div>\n",
       "<style scoped>\n",
       "    .dataframe tbody tr th:only-of-type {\n",
       "        vertical-align: middle;\n",
       "    }\n",
       "\n",
       "    .dataframe tbody tr th {\n",
       "        vertical-align: top;\n",
       "    }\n",
       "\n",
       "    .dataframe thead th {\n",
       "        text-align: right;\n",
       "    }\n",
       "</style>\n",
       "<table border=\"1\" class=\"dataframe\">\n",
       "  <thead>\n",
       "    <tr style=\"text-align: right;\">\n",
       "      <th></th>\n",
       "      <th>TNR</th>\n",
       "      <th>TPR</th>\n",
       "      <th>Accuracy</th>\n",
       "      <th>AUC</th>\n",
       "      <th>Loss</th>\n",
       "    </tr>\n",
       "  </thead>\n",
       "  <tbody>\n",
       "    <tr>\n",
       "      <th>lgb_hyperopt_clf</th>\n",
       "      <td>0.709</td>\n",
       "      <td>0.694</td>\n",
       "      <td>0.703</td>\n",
       "      <td>0.767</td>\n",
       "      <td>-1046.996</td>\n",
       "    </tr>\n",
       "    <tr>\n",
       "      <th>lgb_random_clf</th>\n",
       "      <td>0.810</td>\n",
       "      <td>0.562</td>\n",
       "      <td>0.708</td>\n",
       "      <td>0.766</td>\n",
       "      <td>-949.994</td>\n",
       "    </tr>\n",
       "    <tr>\n",
       "      <th>rf_hyperopt_clf</th>\n",
       "      <td>0.947</td>\n",
       "      <td>0.141</td>\n",
       "      <td>0.615</td>\n",
       "      <td>0.690</td>\n",
       "      <td>-1093.273</td>\n",
       "    </tr>\n",
       "    <tr>\n",
       "      <th>logistic_random_clf</th>\n",
       "      <td>0.745</td>\n",
       "      <td>0.506</td>\n",
       "      <td>0.646</td>\n",
       "      <td>0.683</td>\n",
       "      <td>-1173.131</td>\n",
       "    </tr>\n",
       "    <tr>\n",
       "      <th>Random_Forest_random_clf</th>\n",
       "      <td>0.707</td>\n",
       "      <td>0.555</td>\n",
       "      <td>0.644</td>\n",
       "      <td>0.685</td>\n",
       "      <td>-1208.153</td>\n",
       "    </tr>\n",
       "    <tr>\n",
       "      <th>logistic_hyperopt_clf</th>\n",
       "      <td>0.752</td>\n",
       "      <td>0.506</td>\n",
       "      <td>0.651</td>\n",
       "      <td>0.685</td>\n",
       "      <td>-1154.393</td>\n",
       "    </tr>\n",
       "    <tr>\n",
       "      <th>NN_Random_clf</th>\n",
       "      <td>0.802</td>\n",
       "      <td>0.530</td>\n",
       "      <td>0.690</td>\n",
       "      <td>0.741</td>\n",
       "      <td>-1007.934</td>\n",
       "    </tr>\n",
       "  </tbody>\n",
       "</table>\n",
       "</div>"
      ],
      "text/plain": [
       "                            TNR    TPR  Accuracy    AUC      Loss\n",
       "lgb_hyperopt_clf          0.709  0.694     0.703  0.767 -1046.996\n",
       "lgb_random_clf            0.810  0.562     0.708  0.766  -949.994\n",
       "rf_hyperopt_clf           0.947  0.141     0.615  0.690 -1093.273\n",
       "logistic_random_clf       0.745  0.506     0.646  0.683 -1173.131\n",
       "Random_Forest_random_clf  0.707  0.555     0.644  0.685 -1208.153\n",
       "logistic_hyperopt_clf     0.752  0.506     0.651  0.685 -1154.393\n",
       "NN_Random_clf             0.802  0.530     0.690  0.741 -1007.934"
      ]
     },
     "execution_count": 25,
     "metadata": {},
     "output_type": "execute_result"
    }
   ],
   "source": [
    "combined_results.to_csv('combined_results.csv')"
   ]
  },
  {
   "cell_type": "code",
   "execution_count": null,
   "metadata": {},
   "outputs": [],
   "source": []
  }
 ],
 "metadata": {
  "kernelspec": {
   "display_name": "Python 3",
   "language": "python",
   "name": "python3"
  },
  "language_info": {
   "codemirror_mode": {
    "name": "ipython",
    "version": 3
   },
   "file_extension": ".py",
   "mimetype": "text/x-python",
   "name": "python",
   "nbconvert_exporter": "python",
   "pygments_lexer": "ipython3",
   "version": "3.5.5"
  }
 },
 "nbformat": 4,
 "nbformat_minor": 2
}
